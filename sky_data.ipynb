{
 "cells": [
  {
   "cell_type": "code",
   "execution_count": 1,
   "metadata": {
    "collapsed": false
   },
   "outputs": [],
   "source": [
    "import numpy as np\n",
    "import pandas as pd\n",
    "import seaborn as sns\n",
    "import matplotlib.pyplot as plt\n",
    "%matplotlib inline\n",
    "\n",
    "from sklearn.linear_model import LinearRegression, Lasso\n",
    "\n",
    "from sklearn.model_selection import GridSearchCV\n",
    "from sklearn.metrics import explained_variance_score, mean_squared_error, r2_score"
   ]
  },
  {
   "cell_type": "code",
   "execution_count": 15,
   "metadata": {
    "collapsed": false
   },
   "outputs": [
    {
     "data": {
      "text/plain": [
       "((30000, 44), (23333, 44))"
      ]
     },
     "execution_count": 15,
     "metadata": {},
     "output_type": "execute_result"
    }
   ],
   "source": [
    "train = pd.read_csv(\"train.csv\", na_values=['na'])\n",
    "test = pd.read_csv(\"test.csv\", na_values=['na'])\n",
    "train.shape, test.shape"
   ]
  },
  {
   "cell_type": "code",
   "execution_count": 16,
   "metadata": {
    "collapsed": false
   },
   "outputs": [
    {
     "data": {
      "text/plain": [
       "(23333, 43)"
      ]
     },
     "execution_count": 16,
     "metadata": {},
     "output_type": "execute_result"
    }
   ],
   "source": [
    "unlabeled = pd.read_csv(\"unlabeled_v2.csv\", na_values=['na'])\n",
    "unlabeled.shape"
   ]
  },
  {
   "cell_type": "markdown",
   "metadata": {},
   "source": [
    "###  Functions"
   ]
  },
  {
   "cell_type": "code",
   "execution_count": 4,
   "metadata": {
    "collapsed": true
   },
   "outputs": [],
   "source": [
    "bands_all = ['u', 'g', 'r', 'i', 'z']\n",
    "indx_all = ['0', '1', '2', '3', '4', '5', '6']"
   ]
  },
  {
   "cell_type": "code",
   "execution_count": 5,
   "metadata": {
    "collapsed": true
   },
   "outputs": [],
   "source": [
    "def show_missing_values():\n",
    "    missing_values_df = pd.DataFrame(0, columns=['train', 'test', 'unlabeled'], index=train.columns)\n",
    "\n",
    "    missing_values_df['train'] = train.isna().sum()\n",
    "\n",
    "    missing_values_df['unlabeled'] = unlabeled.isna().sum()\n",
    "    missing_values_df.at['class', 'unlabeled'] = 0\n",
    "    missing_values_df.unlabeled = missing_values_df.unlabeled.astype('int64')\n",
    "\n",
    "    missing_values_df['test'] = test.isna().sum()\n",
    "\n",
    "    return missing_values_df[missing_values_df.any(axis=1)]"
   ]
  },
  {
   "cell_type": "code",
   "execution_count": 6,
   "metadata": {
    "collapsed": true
   },
   "outputs": [],
   "source": [
    "def show_classes_distributions_by_index(idx, data):    \n",
    "    fig, ax = plt.subplots(1, 5, figsize=(10, 3))\n",
    "    fig.subplots_adjust(wspace=0.7)\n",
    "\n",
    "    for j in range(5):\n",
    "        f_name = \"{}_{}\".format(bands_all[j], idx)\n",
    "        sns.boxplot(x='class', y=f_name, data=data, ax=ax[j])"
   ]
  },
  {
   "cell_type": "markdown",
   "metadata": {},
   "source": [
    "# Data Exploration"
   ]
  },
  {
   "cell_type": "code",
   "execution_count": 7,
   "metadata": {
    "collapsed": false
   },
   "outputs": [
    {
     "data": {
      "text/html": [
       "<div>\n",
       "<style scoped>\n",
       "    .dataframe tbody tr th:only-of-type {\n",
       "        vertical-align: middle;\n",
       "    }\n",
       "\n",
       "    .dataframe tbody tr th {\n",
       "        vertical-align: top;\n",
       "    }\n",
       "\n",
       "    .dataframe thead th {\n",
       "        text-align: right;\n",
       "    }\n",
       "</style>\n",
       "<table border=\"1\" class=\"dataframe\">\n",
       "  <thead>\n",
       "    <tr style=\"text-align: right;\">\n",
       "      <th></th>\n",
       "      <th>objid</th>\n",
       "      <th>ra</th>\n",
       "      <th>dec</th>\n",
       "      <th>u_0</th>\n",
       "      <th>g_0</th>\n",
       "      <th>r_0</th>\n",
       "      <th>i_0</th>\n",
       "      <th>z_0</th>\n",
       "      <th>clean</th>\n",
       "      <th>rowc</th>\n",
       "      <th>...</th>\n",
       "      <th>g_5</th>\n",
       "      <th>r_5</th>\n",
       "      <th>i_5</th>\n",
       "      <th>z_5</th>\n",
       "      <th>u_6</th>\n",
       "      <th>g_6</th>\n",
       "      <th>r_6</th>\n",
       "      <th>i_6</th>\n",
       "      <th>z_6</th>\n",
       "      <th>class</th>\n",
       "    </tr>\n",
       "  </thead>\n",
       "  <tbody>\n",
       "    <tr>\n",
       "      <th>0</th>\n",
       "      <td>78023</td>\n",
       "      <td>121.079395</td>\n",
       "      <td>-9.343143</td>\n",
       "      <td>25.46583</td>\n",
       "      <td>22.53827</td>\n",
       "      <td>21.52258</td>\n",
       "      <td>NaN</td>\n",
       "      <td>NaN</td>\n",
       "      <td>1</td>\n",
       "      <td>107.03430</td>\n",
       "      <td>...</td>\n",
       "      <td>-0.184090</td>\n",
       "      <td>-0.054633</td>\n",
       "      <td>NaN</td>\n",
       "      <td>NaN</td>\n",
       "      <td>6</td>\n",
       "      <td>5</td>\n",
       "      <td>6</td>\n",
       "      <td>5</td>\n",
       "      <td>2</td>\n",
       "      <td>0</td>\n",
       "    </tr>\n",
       "    <tr>\n",
       "      <th>1</th>\n",
       "      <td>67239</td>\n",
       "      <td>121.080753</td>\n",
       "      <td>-9.339397</td>\n",
       "      <td>23.64559</td>\n",
       "      <td>24.57786</td>\n",
       "      <td>21.76326</td>\n",
       "      <td>20.94348</td>\n",
       "      <td>21.52855</td>\n",
       "      <td>1</td>\n",
       "      <td>134.68570</td>\n",
       "      <td>...</td>\n",
       "      <td>0.371713</td>\n",
       "      <td>-0.128548</td>\n",
       "      <td>-0.122364</td>\n",
       "      <td>NaN</td>\n",
       "      <td>6</td>\n",
       "      <td>8</td>\n",
       "      <td>1</td>\n",
       "      <td>1</td>\n",
       "      <td>0</td>\n",
       "      <td>0</td>\n",
       "    </tr>\n",
       "    <tr>\n",
       "      <th>2</th>\n",
       "      <td>48461</td>\n",
       "      <td>121.070386</td>\n",
       "      <td>-9.332728</td>\n",
       "      <td>24.88126</td>\n",
       "      <td>23.49473</td>\n",
       "      <td>22.23877</td>\n",
       "      <td>21.38574</td>\n",
       "      <td>21.51635</td>\n",
       "      <td>1</td>\n",
       "      <td>84.76380</td>\n",
       "      <td>...</td>\n",
       "      <td>0.004125</td>\n",
       "      <td>0.014147</td>\n",
       "      <td>-0.051568</td>\n",
       "      <td>NaN</td>\n",
       "      <td>6</td>\n",
       "      <td>4</td>\n",
       "      <td>6</td>\n",
       "      <td>4</td>\n",
       "      <td>5</td>\n",
       "      <td>0</td>\n",
       "    </tr>\n",
       "    <tr>\n",
       "      <th>3</th>\n",
       "      <td>55564</td>\n",
       "      <td>121.083052</td>\n",
       "      <td>-9.334026</td>\n",
       "      <td>23.57384</td>\n",
       "      <td>21.42411</td>\n",
       "      <td>20.43948</td>\n",
       "      <td>19.99905</td>\n",
       "      <td>19.82959</td>\n",
       "      <td>1</td>\n",
       "      <td>177.05670</td>\n",
       "      <td>...</td>\n",
       "      <td>-0.080959</td>\n",
       "      <td>NaN</td>\n",
       "      <td>-0.089301</td>\n",
       "      <td>NaN</td>\n",
       "      <td>3</td>\n",
       "      <td>4</td>\n",
       "      <td>5</td>\n",
       "      <td>2</td>\n",
       "      <td>4</td>\n",
       "      <td>0</td>\n",
       "    </tr>\n",
       "    <tr>\n",
       "      <th>4</th>\n",
       "      <td>96180</td>\n",
       "      <td>121.063351</td>\n",
       "      <td>-9.325032</td>\n",
       "      <td>23.85167</td>\n",
       "      <td>20.25245</td>\n",
       "      <td>19.60670</td>\n",
       "      <td>19.18877</td>\n",
       "      <td>19.08231</td>\n",
       "      <td>1</td>\n",
       "      <td>65.37769</td>\n",
       "      <td>...</td>\n",
       "      <td>-0.037828</td>\n",
       "      <td>-0.097120</td>\n",
       "      <td>NaN</td>\n",
       "      <td>0.106472</td>\n",
       "      <td>3</td>\n",
       "      <td>4</td>\n",
       "      <td>7</td>\n",
       "      <td>6</td>\n",
       "      <td>3</td>\n",
       "      <td>0</td>\n",
       "    </tr>\n",
       "  </tbody>\n",
       "</table>\n",
       "<p>5 rows × 44 columns</p>\n",
       "</div>"
      ],
      "text/plain": [
       "   objid          ra       dec       u_0       g_0       r_0       i_0  \\\n",
       "0  78023  121.079395 -9.343143  25.46583  22.53827  21.52258       NaN   \n",
       "1  67239  121.080753 -9.339397  23.64559  24.57786  21.76326  20.94348   \n",
       "2  48461  121.070386 -9.332728  24.88126  23.49473  22.23877  21.38574   \n",
       "3  55564  121.083052 -9.334026  23.57384  21.42411  20.43948  19.99905   \n",
       "4  96180  121.063351 -9.325032  23.85167  20.25245  19.60670  19.18877   \n",
       "\n",
       "        z_0  clean       rowc  ...         g_5       r_5       i_5       z_5  \\\n",
       "0       NaN      1  107.03430  ...   -0.184090 -0.054633       NaN       NaN   \n",
       "1  21.52855      1  134.68570  ...    0.371713 -0.128548 -0.122364       NaN   \n",
       "2  21.51635      1   84.76380  ...    0.004125  0.014147 -0.051568       NaN   \n",
       "3  19.82959      1  177.05670  ...   -0.080959       NaN -0.089301       NaN   \n",
       "4  19.08231      1   65.37769  ...   -0.037828 -0.097120       NaN  0.106472   \n",
       "\n",
       "   u_6  g_6  r_6  i_6  z_6  class  \n",
       "0    6    5    6    5    2      0  \n",
       "1    6    8    1    1    0      0  \n",
       "2    6    4    6    4    5      0  \n",
       "3    3    4    5    2    4      0  \n",
       "4    3    4    7    6    3      0  \n",
       "\n",
       "[5 rows x 44 columns]"
      ]
     },
     "execution_count": 7,
     "metadata": {},
     "output_type": "execute_result"
    }
   ],
   "source": [
    "train.head()"
   ]
  },
  {
   "cell_type": "code",
   "execution_count": 8,
   "metadata": {
    "collapsed": false
   },
   "outputs": [
    {
     "data": {
      "text/plain": [
       "2    10000\n",
       "1    10000\n",
       "0    10000\n",
       "Name: class, dtype: int64"
      ]
     },
     "execution_count": 8,
     "metadata": {},
     "output_type": "execute_result"
    }
   ],
   "source": [
    "train['class'].value_counts()"
   ]
  },
  {
   "cell_type": "markdown",
   "metadata": {},
   "source": [
    "## Missing values"
   ]
  },
  {
   "cell_type": "code",
   "execution_count": 9,
   "metadata": {
    "collapsed": false
   },
   "outputs": [
    {
     "data": {
      "text/html": [
       "<div>\n",
       "<style scoped>\n",
       "    .dataframe tbody tr th:only-of-type {\n",
       "        vertical-align: middle;\n",
       "    }\n",
       "\n",
       "    .dataframe tbody tr th {\n",
       "        vertical-align: top;\n",
       "    }\n",
       "\n",
       "    .dataframe thead th {\n",
       "        text-align: right;\n",
       "    }\n",
       "</style>\n",
       "<table border=\"1\" class=\"dataframe\">\n",
       "  <thead>\n",
       "    <tr style=\"text-align: right;\">\n",
       "      <th></th>\n",
       "      <th>train</th>\n",
       "      <th>test</th>\n",
       "      <th>unlabeled</th>\n",
       "    </tr>\n",
       "  </thead>\n",
       "  <tbody>\n",
       "    <tr>\n",
       "      <th>u_0</th>\n",
       "      <td>4556</td>\n",
       "      <td>3455</td>\n",
       "      <td>0</td>\n",
       "    </tr>\n",
       "    <tr>\n",
       "      <th>g_0</th>\n",
       "      <td>4504</td>\n",
       "      <td>3460</td>\n",
       "      <td>0</td>\n",
       "    </tr>\n",
       "    <tr>\n",
       "      <th>r_0</th>\n",
       "      <td>4555</td>\n",
       "      <td>3380</td>\n",
       "      <td>0</td>\n",
       "    </tr>\n",
       "    <tr>\n",
       "      <th>i_0</th>\n",
       "      <td>4596</td>\n",
       "      <td>3449</td>\n",
       "      <td>0</td>\n",
       "    </tr>\n",
       "    <tr>\n",
       "      <th>z_0</th>\n",
       "      <td>4481</td>\n",
       "      <td>3499</td>\n",
       "      <td>0</td>\n",
       "    </tr>\n",
       "    <tr>\n",
       "      <th>rowv</th>\n",
       "      <td>401</td>\n",
       "      <td>681</td>\n",
       "      <td>621</td>\n",
       "    </tr>\n",
       "    <tr>\n",
       "      <th>colv</th>\n",
       "      <td>401</td>\n",
       "      <td>681</td>\n",
       "      <td>621</td>\n",
       "    </tr>\n",
       "    <tr>\n",
       "      <th>u_3</th>\n",
       "      <td>5173</td>\n",
       "      <td>4836</td>\n",
       "      <td>4935</td>\n",
       "    </tr>\n",
       "    <tr>\n",
       "      <th>g_3</th>\n",
       "      <td>1720</td>\n",
       "      <td>1690</td>\n",
       "      <td>1760</td>\n",
       "    </tr>\n",
       "    <tr>\n",
       "      <th>r_3</th>\n",
       "      <td>727</td>\n",
       "      <td>752</td>\n",
       "      <td>778</td>\n",
       "    </tr>\n",
       "    <tr>\n",
       "      <th>i_3</th>\n",
       "      <td>580</td>\n",
       "      <td>660</td>\n",
       "      <td>656</td>\n",
       "    </tr>\n",
       "    <tr>\n",
       "      <th>z_3</th>\n",
       "      <td>1728</td>\n",
       "      <td>2257</td>\n",
       "      <td>2122</td>\n",
       "    </tr>\n",
       "    <tr>\n",
       "      <th>u_4</th>\n",
       "      <td>4474</td>\n",
       "      <td>3575</td>\n",
       "      <td>0</td>\n",
       "    </tr>\n",
       "    <tr>\n",
       "      <th>g_4</th>\n",
       "      <td>4506</td>\n",
       "      <td>3512</td>\n",
       "      <td>0</td>\n",
       "    </tr>\n",
       "    <tr>\n",
       "      <th>r_4</th>\n",
       "      <td>4484</td>\n",
       "      <td>3495</td>\n",
       "      <td>0</td>\n",
       "    </tr>\n",
       "    <tr>\n",
       "      <th>i_4</th>\n",
       "      <td>4517</td>\n",
       "      <td>3458</td>\n",
       "      <td>0</td>\n",
       "    </tr>\n",
       "    <tr>\n",
       "      <th>z_4</th>\n",
       "      <td>4422</td>\n",
       "      <td>3576</td>\n",
       "      <td>0</td>\n",
       "    </tr>\n",
       "    <tr>\n",
       "      <th>u_5</th>\n",
       "      <td>4482</td>\n",
       "      <td>3450</td>\n",
       "      <td>0</td>\n",
       "    </tr>\n",
       "    <tr>\n",
       "      <th>g_5</th>\n",
       "      <td>4451</td>\n",
       "      <td>3513</td>\n",
       "      <td>0</td>\n",
       "    </tr>\n",
       "    <tr>\n",
       "      <th>r_5</th>\n",
       "      <td>4498</td>\n",
       "      <td>3481</td>\n",
       "      <td>0</td>\n",
       "    </tr>\n",
       "    <tr>\n",
       "      <th>i_5</th>\n",
       "      <td>4489</td>\n",
       "      <td>3544</td>\n",
       "      <td>0</td>\n",
       "    </tr>\n",
       "    <tr>\n",
       "      <th>z_5</th>\n",
       "      <td>4509</td>\n",
       "      <td>3504</td>\n",
       "      <td>0</td>\n",
       "    </tr>\n",
       "  </tbody>\n",
       "</table>\n",
       "</div>"
      ],
      "text/plain": [
       "      train  test  unlabeled\n",
       "u_0    4556  3455          0\n",
       "g_0    4504  3460          0\n",
       "r_0    4555  3380          0\n",
       "i_0    4596  3449          0\n",
       "z_0    4481  3499          0\n",
       "rowv    401   681        621\n",
       "colv    401   681        621\n",
       "u_3    5173  4836       4935\n",
       "g_3    1720  1690       1760\n",
       "r_3     727   752        778\n",
       "i_3     580   660        656\n",
       "z_3    1728  2257       2122\n",
       "u_4    4474  3575          0\n",
       "g_4    4506  3512          0\n",
       "r_4    4484  3495          0\n",
       "i_4    4517  3458          0\n",
       "z_4    4422  3576          0\n",
       "u_5    4482  3450          0\n",
       "g_5    4451  3513          0\n",
       "r_5    4498  3481          0\n",
       "i_5    4489  3544          0\n",
       "z_5    4509  3504          0"
      ]
     },
     "execution_count": 9,
     "metadata": {},
     "output_type": "execute_result"
    }
   ],
   "source": [
    "show_missing_values()"
   ]
  },
  {
   "cell_type": "markdown",
   "metadata": {},
   "source": [
    "Unlabeled data has less missing values then training and testing sets.  \n",
    "Columns '-0', '-3', '-4', '-5' in training set has ~13-15% missing values.  \n",
    "  \n",
    "  Check if these columns has influence on class prediction"
   ]
  },
  {
   "cell_type": "code",
   "execution_count": 17,
   "metadata": {
    "collapsed": false
   },
   "outputs": [],
   "source": [
    "color_columns = [\"{}_{}\".format(b, i) for b in bands_all for i in indx_all]\n",
    "\n",
    "train_colors = train[[*color_columns, 'class']]\n",
    "unlabeled_colors = unlabeled[[*color_columns]]"
   ]
  },
  {
   "cell_type": "code",
   "execution_count": 18,
   "metadata": {
    "collapsed": false
   },
   "outputs": [
    {
     "data": {
      "image/png": "[encoded data removed]",
      "text/plain": [
       "<matplotlib.figure.Figure at 0x2a94e810f98>"
      ]
     },
     "metadata": {},
     "output_type": "display_data"
    },
    {
     "data": {
      "image/png": "[encoded data removed]",
      "text/plain": [
       "<matplotlib.figure.Figure at 0x2a94bec6588>"
      ]
     },
     "metadata": {},
     "output_type": "display_data"
    },
    {
     "data": {
      "image/png": "[encoded data removed]",
      "text/plain": [
       "<matplotlib.figure.Figure at 0x2a94fb43a20>"
      ]
     },
     "metadata": {},
     "output_type": "display_data"
    },
    {
     "data": {
      "image/png": "[encoded data removed]",
      "text/plain": [
       "<matplotlib.figure.Figure at 0x2a94fdfe128>"
      ]
     },
     "metadata": {},
     "output_type": "display_data"
    },
    {
     "data": {
      "image/png": "[encoded data removed]",
      "text/plain": [
       "<matplotlib.figure.Figure at 0x2a94e18e278>"
      ]
     },
     "metadata": {},
     "output_type": "display_data"
    },
    {
     "data": {
      "image/png": "[encoded data removed]",
      "text/plain": [
       "<matplotlib.figure.Figure at 0x2a94faeeac8>"
      ]
     },
     "metadata": {},
     "output_type": "display_data"
    }
   ],
   "source": [
    "# plot only features which has real-type values\n",
    "for i in ['0', '1', '2', '3', '4', '5']:\n",
    "    show_classes_distributions_by_index(i, train_colors)"
   ]
  },
  {
   "cell_type": "markdown",
   "metadata": {},
   "source": [
    "3-rd, 4-th and 5-th features seem to have small distribution and no effect on class (and have a lot of outliers)   \n",
    "To be sure let's investigate outliers and check again  \n",
    "For now let's consider them safe to delete.    "
   ]
  },
  {
   "cell_type": "markdown",
   "metadata": {},
   "source": [
    "0-th feature has a bit differrent values for differrent classes, so let's investigate it more.  \n"
   ]
  },
  {
   "cell_type": "markdown",
   "metadata": {},
   "source": [
    "#### 0-th color features"
   ]
  },
  {
   "cell_type": "code",
   "execution_count": 19,
   "metadata": {
    "collapsed": false
   },
   "outputs": [
    {
     "data": {
      "text/plain": [
       "<matplotlib.axes._subplots.AxesSubplot at 0x2a94e48c4e0>"
      ]
     },
     "execution_count": 19,
     "metadata": {},
     "output_type": "execute_result"
    },
    {
     "data": {
      "image/png": "[encoded data removed]",
      "text/plain": [
       "<matplotlib.figure.Figure at 0x2a94e6d9588>"
      ]
     },
     "metadata": {},
     "output_type": "display_data"
    }
   ],
   "source": [
    "ns = ['3', '4', '5']\n",
    "exclude_from_corrmap = [\"{}_{}\".format(b, n) for n in ns for b in bands_all]\n",
    "exclude_from_corrmap.extend(['class', 'objid', 'ra', 'dec', 'clean'])\n",
    "\n",
    "corrmat = train.drop(exclude_from_corrmap, axis=1).corr()\n",
    "f, ax = plt.subplots(figsize=(12, 9))\n",
    "sns.heatmap(corrmat, vmax=.8, square=True)"
   ]
  },
  {
   "cell_type": "markdown",
   "metadata": {
    "collapsed": true
   },
   "source": [
    "0-th features in training set have strong corrlation with one another. ('u_0' and 'g_0', 'g_0' and 'r_0' and so on)  \n",
    "\n",
    "Check the same in unlabeled dataset"
   ]
  },
  {
   "cell_type": "code",
   "execution_count": 20,
   "metadata": {
    "collapsed": false
   },
   "outputs": [
    {
     "data": {
      "text/plain": [
       "<matplotlib.axes._subplots.AxesSubplot at 0x2a94e6d9278>"
      ]
     },
     "execution_count": 20,
     "metadata": {},
     "output_type": "execute_result"
    },
    {
     "data": {
      "image/png": "[encoded data removed]",
      "text/plain": [
       "<matplotlib.figure.Figure at 0x2a94de5d470>"
      ]
     },
     "metadata": {},
     "output_type": "display_data"
    }
   ],
   "source": [
    "exclude_from_corrmap.remove('class')\n",
    "\n",
    "corrmat = unlabeled.drop(exclude_from_corrmap, axis=1).corr()\n",
    "f, ax = plt.subplots(figsize=(12, 9))\n",
    "sns.heatmap(corrmat, vmax=.8, square=True)"
   ]
  },
  {
   "cell_type": "markdown",
   "metadata": {},
   "source": [
    "Check how many 0-th features are missing at the same time in train dataset"
   ]
  },
  {
   "cell_type": "code",
   "execution_count": 21,
   "metadata": {
    "collapsed": false
   },
   "outputs": [
    {
     "name": "stdout",
     "output_type": "stream",
     "text": [
      "0    13266\n",
      "1    11664\n",
      "2     4248\n",
      "3      764\n",
      "4       50\n",
      "5        8\n",
      "dtype: int64\n"
     ]
    },
    {
     "data": {
      "text/plain": [
       "<matplotlib.axes._subplots.AxesSubplot at 0x2a94e9394a8>"
      ]
     },
     "execution_count": 21,
     "metadata": {},
     "output_type": "execute_result"
    },
    {
     "data": {
      "image/png": "[encoded data removed]",
      "text/plain": [
       "<matplotlib.figure.Figure at 0x2a94e3505c0>"
      ]
     },
     "metadata": {},
     "output_type": "display_data"
    }
   ],
   "source": [
    "zeros_features = [\"{}_0\".format(b) for b in bands_all]\n",
    "num_of_missing_0th = train[zeros_features].isna().sum(axis=1)\n",
    "\n",
    "print(num_of_missing_0th.value_counts())\n",
    "num_of_missing_0th.hist()"
   ]
  },
  {
   "cell_type": "markdown",
   "metadata": {},
   "source": [
    "A few samples have all 0-th features missing, so after 'smart' prediction we still have to fill NaNs with mean values."
   ]
  },
  {
   "cell_type": "code",
   "execution_count": 22,
   "metadata": {
    "collapsed": false
   },
   "outputs": [
    {
     "data": {
      "text/html": [
       "<div>\n",
       "<style scoped>\n",
       "    .dataframe tbody tr th:only-of-type {\n",
       "        vertical-align: middle;\n",
       "    }\n",
       "\n",
       "    .dataframe tbody tr th {\n",
       "        vertical-align: top;\n",
       "    }\n",
       "\n",
       "    .dataframe thead th {\n",
       "        text-align: right;\n",
       "    }\n",
       "</style>\n",
       "<table border=\"1\" class=\"dataframe\">\n",
       "  <thead>\n",
       "    <tr style=\"text-align: right;\">\n",
       "      <th></th>\n",
       "      <th>u_0</th>\n",
       "      <th>g_0</th>\n",
       "      <th>r_0</th>\n",
       "      <th>i_0</th>\n",
       "      <th>z_0</th>\n",
       "    </tr>\n",
       "  </thead>\n",
       "  <tbody>\n",
       "    <tr>\n",
       "      <th>u_0</th>\n",
       "      <td>1.000000</td>\n",
       "      <td>0.817264</td>\n",
       "      <td>0.717657</td>\n",
       "      <td>0.631143</td>\n",
       "      <td>0.617691</td>\n",
       "    </tr>\n",
       "    <tr>\n",
       "      <th>g_0</th>\n",
       "      <td>0.817264</td>\n",
       "      <td>1.000000</td>\n",
       "      <td>0.901610</td>\n",
       "      <td>0.816336</td>\n",
       "      <td>0.782590</td>\n",
       "    </tr>\n",
       "    <tr>\n",
       "      <th>r_0</th>\n",
       "      <td>0.717657</td>\n",
       "      <td>0.901610</td>\n",
       "      <td>1.000000</td>\n",
       "      <td>0.931553</td>\n",
       "      <td>0.873073</td>\n",
       "    </tr>\n",
       "    <tr>\n",
       "      <th>i_0</th>\n",
       "      <td>0.631143</td>\n",
       "      <td>0.816336</td>\n",
       "      <td>0.931553</td>\n",
       "      <td>1.000000</td>\n",
       "      <td>0.896410</td>\n",
       "    </tr>\n",
       "    <tr>\n",
       "      <th>z_0</th>\n",
       "      <td>0.617691</td>\n",
       "      <td>0.782590</td>\n",
       "      <td>0.873073</td>\n",
       "      <td>0.896410</td>\n",
       "      <td>1.000000</td>\n",
       "    </tr>\n",
       "  </tbody>\n",
       "</table>\n",
       "</div>"
      ],
      "text/plain": [
       "          u_0       g_0       r_0       i_0       z_0\n",
       "u_0  1.000000  0.817264  0.717657  0.631143  0.617691\n",
       "g_0  0.817264  1.000000  0.901610  0.816336  0.782590\n",
       "r_0  0.717657  0.901610  1.000000  0.931553  0.873073\n",
       "i_0  0.631143  0.816336  0.931553  1.000000  0.896410\n",
       "z_0  0.617691  0.782590  0.873073  0.896410  1.000000"
      ]
     },
     "execution_count": 22,
     "metadata": {},
     "output_type": "execute_result"
    }
   ],
   "source": [
    "train[zeros_features].corr()"
   ]
  },
  {
   "cell_type": "code",
   "execution_count": 23,
   "metadata": {
    "collapsed": false
   },
   "outputs": [
    {
     "data": {
      "text/html": [
       "<div>\n",
       "<style scoped>\n",
       "    .dataframe tbody tr th:only-of-type {\n",
       "        vertical-align: middle;\n",
       "    }\n",
       "\n",
       "    .dataframe tbody tr th {\n",
       "        vertical-align: top;\n",
       "    }\n",
       "\n",
       "    .dataframe thead th {\n",
       "        text-align: right;\n",
       "    }\n",
       "</style>\n",
       "<table border=\"1\" class=\"dataframe\">\n",
       "  <thead>\n",
       "    <tr style=\"text-align: right;\">\n",
       "      <th></th>\n",
       "      <th>u_0</th>\n",
       "      <th>g_0</th>\n",
       "      <th>r_0</th>\n",
       "      <th>i_0</th>\n",
       "      <th>z_0</th>\n",
       "    </tr>\n",
       "  </thead>\n",
       "  <tbody>\n",
       "    <tr>\n",
       "      <th>u_0</th>\n",
       "      <td>1.000000</td>\n",
       "      <td>0.775498</td>\n",
       "      <td>0.682887</td>\n",
       "      <td>0.605890</td>\n",
       "      <td>0.590848</td>\n",
       "    </tr>\n",
       "    <tr>\n",
       "      <th>g_0</th>\n",
       "      <td>0.775498</td>\n",
       "      <td>1.000000</td>\n",
       "      <td>0.898527</td>\n",
       "      <td>0.816628</td>\n",
       "      <td>0.768118</td>\n",
       "    </tr>\n",
       "    <tr>\n",
       "      <th>r_0</th>\n",
       "      <td>0.682887</td>\n",
       "      <td>0.898527</td>\n",
       "      <td>1.000000</td>\n",
       "      <td>0.915039</td>\n",
       "      <td>0.853865</td>\n",
       "    </tr>\n",
       "    <tr>\n",
       "      <th>i_0</th>\n",
       "      <td>0.605890</td>\n",
       "      <td>0.816628</td>\n",
       "      <td>0.915039</td>\n",
       "      <td>1.000000</td>\n",
       "      <td>0.866295</td>\n",
       "    </tr>\n",
       "    <tr>\n",
       "      <th>z_0</th>\n",
       "      <td>0.590848</td>\n",
       "      <td>0.768118</td>\n",
       "      <td>0.853865</td>\n",
       "      <td>0.866295</td>\n",
       "      <td>1.000000</td>\n",
       "    </tr>\n",
       "  </tbody>\n",
       "</table>\n",
       "</div>"
      ],
      "text/plain": [
       "          u_0       g_0       r_0       i_0       z_0\n",
       "u_0  1.000000  0.775498  0.682887  0.605890  0.590848\n",
       "g_0  0.775498  1.000000  0.898527  0.816628  0.768118\n",
       "r_0  0.682887  0.898527  1.000000  0.915039  0.853865\n",
       "i_0  0.605890  0.816628  0.915039  1.000000  0.866295\n",
       "z_0  0.590848  0.768118  0.853865  0.866295  1.000000"
      ]
     },
     "execution_count": 23,
     "metadata": {},
     "output_type": "execute_result"
    }
   ],
   "source": [
    "unlabeled[zeros_features].corr()"
   ]
  },
  {
   "cell_type": "markdown",
   "metadata": {},
   "source": [
    "Prediction of every feature should be based on the most correlated variable:\n",
    "* u_0 based on g_0  \n",
    "* g_0 based on r_0  \n",
    "* r_0 based on i_0  \n",
    "* i_0 based on r_0  \n",
    "* z_0 based on i_0  "
   ]
  },
  {
   "cell_type": "code",
   "execution_count": 24,
   "metadata": {
    "collapsed": false
   },
   "outputs": [],
   "source": [
    "def fill_nans_based_on_regression(col, based_on_col, data):\n",
    "    print(\"\\n{} based on {}\".format(col, based_on_col))\n",
    "    \n",
    "    # get only notna values to train linear regression\n",
    "    clean_columns_mask = data[[col, based_on_col]].notna().all(axis=1)\n",
    "    clean_columns = data[clean_columns_mask][[col, based_on_col]]\n",
    "    \n",
    "    # get samples where 'col' is NaN and 'based_col' is not NaN\n",
    "    # (samples, where 'col' value will be predicted)\n",
    "    col_nan_mask = data[col].isna()\n",
    "    based_col_notna_mask = data[based_on_col].notna()\n",
    "    samples_to_predict = data[col_nan_mask & based_col_notna_mask]\n",
    "    \n",
    "    # reshape to fit the regression\n",
    "    X = clean_columns[based_on_col].values.reshape(-1, 1)\n",
    "    y = clean_columns[col].values.reshape(-1, 1)\n",
    "    to_predict = samples_to_predict[based_on_col].values.reshape(-1, 1)\n",
    "    \n",
    "    reg = LinearRegression()\n",
    "    reg.fit(X, y)\n",
    "    print(\"reg score: {}\".format(reg.score(X, y)))\n",
    "    \n",
    "    predicted = reg.predict(to_predict).flatten()\n",
    "    \n",
    "    num_of_nans_before = data[col].isna().sum()\n",
    "    \n",
    "    # fill predicted values instead of NaNs\n",
    "    idx = samples_to_predict.index\n",
    "    data.loc[idx, col] = predicted\n",
    "    \n",
    "    num_of_nans_after = data[col].isna().sum()\n",
    "    print(\"replaced {} NaN values\".format(num_of_nans_before - num_of_nans_after))"
   ]
  },
  {
   "cell_type": "code",
   "execution_count": 27,
   "metadata": {
    "collapsed": false
   },
   "outputs": [
    {
     "name": "stdout",
     "output_type": "stream",
     "text": [
      "\n",
      "r_0 based on i_0\n",
      "reg score: 0.8677907744593449\n",
      "replaced 3885 NaN values\n",
      "\n",
      "i_0 based on r_0\n",
      "reg score: 0.8856728999444379\n",
      "replaced 3926 NaN values\n",
      "\n",
      "z_0 based on r_0\n",
      "reg score: 0.7625302248742643\n",
      "replaced 4377 NaN values\n",
      "\n",
      "g_0 based on r_0\n",
      "reg score: 0.7919346700916082\n",
      "replaced 4402 NaN values\n",
      "\n",
      "u_0 based on g_0\n",
      "reg score: 0.6422382303904675\n",
      "replaced 4540 NaN values\n",
      "\n",
      "r_0 based on i_0\n",
      "reg score: 0.8407839811848895\n",
      "replaced 2854 NaN values\n",
      "\n",
      "i_0 based on r_0\n",
      "reg score: 0.8608835564380372\n",
      "replaced 2923 NaN values\n",
      "\n",
      "z_0 based on r_0\n",
      "reg score: 0.7446820857487215\n",
      "replaced 3416 NaN values\n",
      "\n",
      "g_0 based on r_0\n",
      "reg score: 0.8010923400872132\n",
      "replaced 3376 NaN values\n",
      "\n",
      "u_0 based on g_0\n",
      "reg score: 0.5750493514492977\n",
      "replaced 3440 NaN values\n"
     ]
    }
   ],
   "source": [
    "replacement_scheme = [('r_0', 'i_0'), ('i_0', 'r_0'), ('z_0', 'r_0'), ('g_0', 'r_0'), ('u_0', 'g_0')]\n",
    "\n",
    "for col, based_on_col in replacement_scheme:\n",
    "    fill_nans_based_on_regression(col, based_on_col, train)\n",
    "\n",
    "for col, based_on_col in replacement_scheme:\n",
    "    fill_nans_based_on_regression(col, based_on_col, test)"
   ]
  },
  {
   "cell_type": "code",
   "execution_count": 28,
   "metadata": {
    "collapsed": false
   },
   "outputs": [
    {
     "data": {
      "text/html": [
       "<div>\n",
       "<style scoped>\n",
       "    .dataframe tbody tr th:only-of-type {\n",
       "        vertical-align: middle;\n",
       "    }\n",
       "\n",
       "    .dataframe tbody tr th {\n",
       "        vertical-align: top;\n",
       "    }\n",
       "\n",
       "    .dataframe thead th {\n",
       "        text-align: right;\n",
       "    }\n",
       "</style>\n",
       "<table border=\"1\" class=\"dataframe\">\n",
       "  <thead>\n",
       "    <tr style=\"text-align: right;\">\n",
       "      <th></th>\n",
       "      <th>train</th>\n",
       "      <th>test</th>\n",
       "      <th>unlabeled</th>\n",
       "    </tr>\n",
       "  </thead>\n",
       "  <tbody>\n",
       "    <tr>\n",
       "      <th>u_0</th>\n",
       "      <td>16</td>\n",
       "      <td>15</td>\n",
       "      <td>0</td>\n",
       "    </tr>\n",
       "    <tr>\n",
       "      <th>g_0</th>\n",
       "      <td>102</td>\n",
       "      <td>84</td>\n",
       "      <td>0</td>\n",
       "    </tr>\n",
       "    <tr>\n",
       "      <th>r_0</th>\n",
       "      <td>670</td>\n",
       "      <td>526</td>\n",
       "      <td>0</td>\n",
       "    </tr>\n",
       "    <tr>\n",
       "      <th>i_0</th>\n",
       "      <td>670</td>\n",
       "      <td>526</td>\n",
       "      <td>0</td>\n",
       "    </tr>\n",
       "    <tr>\n",
       "      <th>z_0</th>\n",
       "      <td>104</td>\n",
       "      <td>83</td>\n",
       "      <td>0</td>\n",
       "    </tr>\n",
       "    <tr>\n",
       "      <th>rowv</th>\n",
       "      <td>401</td>\n",
       "      <td>681</td>\n",
       "      <td>621</td>\n",
       "    </tr>\n",
       "    <tr>\n",
       "      <th>colv</th>\n",
       "      <td>401</td>\n",
       "      <td>681</td>\n",
       "      <td>621</td>\n",
       "    </tr>\n",
       "    <tr>\n",
       "      <th>u_3</th>\n",
       "      <td>5173</td>\n",
       "      <td>4836</td>\n",
       "      <td>4935</td>\n",
       "    </tr>\n",
       "    <tr>\n",
       "      <th>g_3</th>\n",
       "      <td>1720</td>\n",
       "      <td>1690</td>\n",
       "      <td>1760</td>\n",
       "    </tr>\n",
       "    <tr>\n",
       "      <th>r_3</th>\n",
       "      <td>727</td>\n",
       "      <td>752</td>\n",
       "      <td>778</td>\n",
       "    </tr>\n",
       "    <tr>\n",
       "      <th>i_3</th>\n",
       "      <td>580</td>\n",
       "      <td>660</td>\n",
       "      <td>656</td>\n",
       "    </tr>\n",
       "    <tr>\n",
       "      <th>z_3</th>\n",
       "      <td>1728</td>\n",
       "      <td>2257</td>\n",
       "      <td>2122</td>\n",
       "    </tr>\n",
       "    <tr>\n",
       "      <th>u_4</th>\n",
       "      <td>4474</td>\n",
       "      <td>3575</td>\n",
       "      <td>0</td>\n",
       "    </tr>\n",
       "    <tr>\n",
       "      <th>g_4</th>\n",
       "      <td>4506</td>\n",
       "      <td>3512</td>\n",
       "      <td>0</td>\n",
       "    </tr>\n",
       "    <tr>\n",
       "      <th>r_4</th>\n",
       "      <td>4484</td>\n",
       "      <td>3495</td>\n",
       "      <td>0</td>\n",
       "    </tr>\n",
       "    <tr>\n",
       "      <th>i_4</th>\n",
       "      <td>4517</td>\n",
       "      <td>3458</td>\n",
       "      <td>0</td>\n",
       "    </tr>\n",
       "    <tr>\n",
       "      <th>z_4</th>\n",
       "      <td>4422</td>\n",
       "      <td>3576</td>\n",
       "      <td>0</td>\n",
       "    </tr>\n",
       "    <tr>\n",
       "      <th>u_5</th>\n",
       "      <td>4482</td>\n",
       "      <td>3450</td>\n",
       "      <td>0</td>\n",
       "    </tr>\n",
       "    <tr>\n",
       "      <th>g_5</th>\n",
       "      <td>4451</td>\n",
       "      <td>3513</td>\n",
       "      <td>0</td>\n",
       "    </tr>\n",
       "    <tr>\n",
       "      <th>r_5</th>\n",
       "      <td>4498</td>\n",
       "      <td>3481</td>\n",
       "      <td>0</td>\n",
       "    </tr>\n",
       "    <tr>\n",
       "      <th>i_5</th>\n",
       "      <td>4489</td>\n",
       "      <td>3544</td>\n",
       "      <td>0</td>\n",
       "    </tr>\n",
       "    <tr>\n",
       "      <th>z_5</th>\n",
       "      <td>4509</td>\n",
       "      <td>3504</td>\n",
       "      <td>0</td>\n",
       "    </tr>\n",
       "  </tbody>\n",
       "</table>\n",
       "</div>"
      ],
      "text/plain": [
       "      train  test  unlabeled\n",
       "u_0      16    15          0\n",
       "g_0     102    84          0\n",
       "r_0     670   526          0\n",
       "i_0     670   526          0\n",
       "z_0     104    83          0\n",
       "rowv    401   681        621\n",
       "colv    401   681        621\n",
       "u_3    5173  4836       4935\n",
       "g_3    1720  1690       1760\n",
       "r_3     727   752        778\n",
       "i_3     580   660        656\n",
       "z_3    1728  2257       2122\n",
       "u_4    4474  3575          0\n",
       "g_4    4506  3512          0\n",
       "r_4    4484  3495          0\n",
       "i_4    4517  3458          0\n",
       "z_4    4422  3576          0\n",
       "u_5    4482  3450          0\n",
       "g_5    4451  3513          0\n",
       "r_5    4498  3481          0\n",
       "i_5    4489  3544          0\n",
       "z_5    4509  3504          0"
      ]
     },
     "execution_count": 28,
     "metadata": {},
     "output_type": "execute_result"
    }
   ],
   "source": [
    "show_missing_values()"
   ]
  },
  {
   "cell_type": "markdown",
   "metadata": {},
   "source": [
    "Fill all the rest 0-th features with mean values by columns"
   ]
  },
  {
   "cell_type": "code",
   "execution_count": 33,
   "metadata": {
    "collapsed": false
   },
   "outputs": [
    {
     "data": {
      "text/plain": [
       "(0, 0)"
      ]
     },
     "execution_count": 33,
     "metadata": {},
     "output_type": "execute_result"
    }
   ],
   "source": [
    "train[zeros_features] = train[zeros_features].fillna(train[zeros_features].mean())\n",
    "test[zeros_features] = test[zeros_features].fillna(test[zeros_features].mean())\n",
    "\n",
    "train[zeros_features].isna().sum().max(), test[zeros_features].isna().sum().max() "
   ]
  },
  {
   "cell_type": "markdown",
   "metadata": {},
   "source": [
    "#### 3-rd, 4-th and 5-th color features"
   ]
  },
  {
   "cell_type": "code",
   "execution_count": 30,
   "metadata": {
    "collapsed": false
   },
   "outputs": [],
   "source": [
    "# eventually delete 3-rd, 4-th and 5-th features \n",
    "bands = ['u', 'g', 'r', 'i', 'z']\n",
    "indx = ['3', '4', '5']\n",
    "columns_to_drop = [\"{}_{}\".format(b, i) for b in bands for i in indx]\n",
    "\n",
    "train = train.drop(columns_to_drop, axis=1)\n",
    "test = test.drop(columns_to_drop, axis=1)\n",
    "\n",
    "unlabeled = unlabeled.drop(columns_to_drop, axis=1)"
   ]
  },
  {
   "cell_type": "markdown",
   "metadata": {},
   "source": [
    "#### colv and rowv features"
   ]
  },
  {
   "cell_type": "markdown",
   "metadata": {},
   "source": [
    "For now we have only 'rowv' and 'colv' missing values  "
   ]
  },
  {
   "cell_type": "code",
   "execution_count": 34,
   "metadata": {
    "collapsed": false
   },
   "outputs": [
    {
     "data": {
      "text/html": [
       "<div>\n",
       "<style scoped>\n",
       "    .dataframe tbody tr th:only-of-type {\n",
       "        vertical-align: middle;\n",
       "    }\n",
       "\n",
       "    .dataframe tbody tr th {\n",
       "        vertical-align: top;\n",
       "    }\n",
       "\n",
       "    .dataframe thead th {\n",
       "        text-align: right;\n",
       "    }\n",
       "</style>\n",
       "<table border=\"1\" class=\"dataframe\">\n",
       "  <thead>\n",
       "    <tr style=\"text-align: right;\">\n",
       "      <th></th>\n",
       "      <th>train</th>\n",
       "      <th>test</th>\n",
       "      <th>unlabeled</th>\n",
       "    </tr>\n",
       "  </thead>\n",
       "  <tbody>\n",
       "    <tr>\n",
       "      <th>rowv</th>\n",
       "      <td>401</td>\n",
       "      <td>681</td>\n",
       "      <td>621</td>\n",
       "    </tr>\n",
       "    <tr>\n",
       "      <th>colv</th>\n",
       "      <td>401</td>\n",
       "      <td>681</td>\n",
       "      <td>621</td>\n",
       "    </tr>\n",
       "  </tbody>\n",
       "</table>\n",
       "</div>"
      ],
      "text/plain": [
       "      train  test  unlabeled\n",
       "rowv    401   681        621\n",
       "colv    401   681        621"
      ]
     },
     "execution_count": 34,
     "metadata": {},
     "output_type": "execute_result"
    }
   ],
   "source": [
    "show_missing_values()"
   ]
  },
  {
   "cell_type": "code",
   "execution_count": 35,
   "metadata": {
    "collapsed": false
   },
   "outputs": [
    {
     "data": {
      "text/plain": [
       "False    29599\n",
       "True       401\n",
       "dtype: int64"
      ]
     },
     "execution_count": 35,
     "metadata": {},
     "output_type": "execute_result"
    }
   ],
   "source": [
    "train[['rowv', 'colv']].isna().all(axis=1).value_counts()"
   ]
  },
  {
   "cell_type": "code",
   "execution_count": 36,
   "metadata": {
    "collapsed": false
   },
   "outputs": [
    {
     "data": {
      "text/plain": [
       "False    22712\n",
       "True       621\n",
       "dtype: int64"
      ]
     },
     "execution_count": 36,
     "metadata": {},
     "output_type": "execute_result"
    }
   ],
   "source": [
    "unlabeled[['rowv', 'colv']].isna().all(axis=1).value_counts()"
   ]
  },
  {
   "cell_type": "markdown",
   "metadata": {},
   "source": [
    "Columns are both missing or both present in train and unlabeled datasets. Assume, the same situation is in the test set.   \n",
    "       \n",
    "Check if they are relevant to class prediction and if we can determine them from other features"
   ]
  },
  {
   "cell_type": "code",
   "execution_count": 37,
   "metadata": {
    "collapsed": false
   },
   "outputs": [],
   "source": [
    "train_clean = train[train.notna().all(axis=1)]\n",
    "unlabeled_clean = unlabeled[unlabeled.notna().all(axis=1)]    "
   ]
  },
  {
   "cell_type": "markdown",
   "metadata": {},
   "source": [
    "Since 'rowv' and 'colv' columns describe object velocity in frame it's not worth to check relationship with all other features.  \n",
    "I'll check only 'rowc','colc' - object coordinates if frame"
   ]
  },
  {
   "cell_type": "code",
   "execution_count": 38,
   "metadata": {
    "collapsed": false
   },
   "outputs": [
    {
     "data": {
      "text/plain": [
       "<seaborn.axisgrid.PairGrid at 0x2a94c0f5c88>"
      ]
     },
     "execution_count": 38,
     "metadata": {},
     "output_type": "execute_result"
    },
    {
     "data": {
      "image/png": "[encoded data removed]",
      "text/plain": [
       "<matplotlib.figure.Figure at 0x2a94c6352e8>"
      ]
     },
     "metadata": {},
     "output_type": "display_data"
    }
   ],
   "source": [
    "df = unlabeled_clean[['rowv', 'colv', 'rowc','colc']]\n",
    "sns.pairplot(df)"
   ]
  },
  {
   "cell_type": "markdown",
   "metadata": {},
   "source": [
    "No relationship with other features.  \n",
    "Let's check it's influence on class prediction. "
   ]
  },
  {
   "cell_type": "code",
   "execution_count": 39,
   "metadata": {
    "collapsed": false
   },
   "outputs": [
    {
     "data": {
      "text/html": [
       "<div>\n",
       "<style scoped>\n",
       "    .dataframe tbody tr th:only-of-type {\n",
       "        vertical-align: middle;\n",
       "    }\n",
       "\n",
       "    .dataframe tbody tr th {\n",
       "        vertical-align: top;\n",
       "    }\n",
       "\n",
       "    .dataframe thead tr th {\n",
       "        text-align: left;\n",
       "    }\n",
       "\n",
       "    .dataframe thead tr:last-of-type th {\n",
       "        text-align: right;\n",
       "    }\n",
       "</style>\n",
       "<table border=\"1\" class=\"dataframe\">\n",
       "  <thead>\n",
       "    <tr>\n",
       "      <th></th>\n",
       "      <th colspan=\"3\" halign=\"left\">rowv</th>\n",
       "      <th colspan=\"3\" halign=\"left\">colv</th>\n",
       "    </tr>\n",
       "    <tr>\n",
       "      <th></th>\n",
       "      <th>count</th>\n",
       "      <th>std</th>\n",
       "      <th>mean</th>\n",
       "      <th>count</th>\n",
       "      <th>std</th>\n",
       "      <th>mean</th>\n",
       "    </tr>\n",
       "    <tr>\n",
       "      <th>class</th>\n",
       "      <th></th>\n",
       "      <th></th>\n",
       "      <th></th>\n",
       "      <th></th>\n",
       "      <th></th>\n",
       "      <th></th>\n",
       "    </tr>\n",
       "  </thead>\n",
       "  <tbody>\n",
       "    <tr>\n",
       "      <th>0</th>\n",
       "      <td>9607</td>\n",
       "      <td>0.070881</td>\n",
       "      <td>0.000052</td>\n",
       "      <td>9607</td>\n",
       "      <td>0.064285</td>\n",
       "      <td>0.000790</td>\n",
       "    </tr>\n",
       "    <tr>\n",
       "      <th>1</th>\n",
       "      <td>9999</td>\n",
       "      <td>0.016655</td>\n",
       "      <td>0.000049</td>\n",
       "      <td>9999</td>\n",
       "      <td>0.017225</td>\n",
       "      <td>0.000149</td>\n",
       "    </tr>\n",
       "    <tr>\n",
       "      <th>2</th>\n",
       "      <td>9993</td>\n",
       "      <td>0.012842</td>\n",
       "      <td>0.000260</td>\n",
       "      <td>9993</td>\n",
       "      <td>0.009462</td>\n",
       "      <td>0.000926</td>\n",
       "    </tr>\n",
       "  </tbody>\n",
       "</table>\n",
       "</div>"
      ],
      "text/plain": [
       "       rowv                      colv                    \n",
       "      count       std      mean count       std      mean\n",
       "class                                                    \n",
       "0      9607  0.070881  0.000052  9607  0.064285  0.000790\n",
       "1      9999  0.016655  0.000049  9999  0.017225  0.000149\n",
       "2      9993  0.012842  0.000260  9993  0.009462  0.000926"
      ]
     },
     "execution_count": 39,
     "metadata": {},
     "output_type": "execute_result"
    }
   ],
   "source": [
    "train_clean.groupby('class')[['rowv', 'colv']].agg({'mean', 'std', 'count'})"
   ]
  },
  {
   "cell_type": "code",
   "execution_count": 120,
   "metadata": {
    "collapsed": false
   },
   "outputs": [
    {
     "data": {
      "text/plain": [
       "rowv    0.000121\n",
       "colv    0.000619\n",
       "dtype: float64"
      ]
     },
     "execution_count": 120,
     "metadata": {},
     "output_type": "execute_result"
    }
   ],
   "source": [
    "train[['rowv', 'colv']].mean()"
   ]
  },
  {
   "cell_type": "code",
   "execution_count": 121,
   "metadata": {
    "collapsed": false
   },
   "outputs": [
    {
     "data": {
      "text/plain": [
       "rowv    0.000248\n",
       "colv    0.000291\n",
       "dtype: float64"
      ]
     },
     "execution_count": 121,
     "metadata": {},
     "output_type": "execute_result"
    }
   ],
   "source": [
    "unlabeled[['rowv', 'colv']].mean()"
   ]
  },
  {
   "cell_type": "code",
   "execution_count": 90,
   "metadata": {
    "collapsed": false
   },
   "outputs": [
    {
     "data": {
      "text/plain": [
       "rowv    0.000254\n",
       "colv   -0.000360\n",
       "dtype: float64"
      ]
     },
     "execution_count": 90,
     "metadata": {},
     "output_type": "execute_result"
    }
   ],
   "source": [
    "test[['rowv', 'colv']].mean()"
   ]
  },
  {
   "cell_type": "markdown",
   "metadata": {},
   "source": [
    "\n",
    "Columns has similar values in all classes, so fill NaN values with mean by dataset  "
   ]
  },
  {
   "cell_type": "code",
   "execution_count": 91,
   "metadata": {
    "collapsed": false
   },
   "outputs": [],
   "source": [
    "train.fillna(train.mean(), inplace=True)\n",
    "test.fillna(test.mean(), inplace=True)"
   ]
  },
  {
   "cell_type": "code",
   "execution_count": 122,
   "metadata": {
    "collapsed": false
   },
   "outputs": [
    {
     "data": {
      "text/plain": [
       "(0, 0)"
      ]
     },
     "execution_count": 122,
     "metadata": {},
     "output_type": "execute_result"
    }
   ],
   "source": [
    "train.isna().sum().max(), test.isna().sum().max()"
   ]
  },
  {
   "cell_type": "code",
   "execution_count": 92,
   "metadata": {
    "collapsed": false
   },
   "outputs": [
    {
     "data": {
      "text/plain": [
       "((30000, 24), (23333, 24))"
      ]
     },
     "execution_count": 92,
     "metadata": {},
     "output_type": "execute_result"
    }
   ],
   "source": [
    "train.shape, test.shape"
   ]
  },
  {
   "cell_type": "markdown",
   "metadata": {},
   "source": [
    "### Conclusion\n",
    "\n",
    "*  Drop  '-3', '-4', '-5'  columns due to ~13-15% of missing values \n",
    "*  Fill '-0' columns with regression results based on present '-0' features\n",
    "*  Fill all remaining '-0' NaNs with mean values\n",
    "*  Replace 'rowv' and 'colv' NaNs with mean values"
   ]
  },
  {
   "cell_type": "code",
   "execution_count": null,
   "metadata": {
    "collapsed": true
   },
   "outputs": [],
   "source": []
  }
 ],
 "metadata": {
  "anaconda-cloud": {},
  "kernelspec": {
   "display_name": "Python [conda env:Anaconda3]",
   "language": "python",
   "name": "conda-env-Anaconda3-py"
  },
  "language_info": {
   "codemirror_mode": {
    "name": "ipython",
    "version": 3
   },
   "file_extension": ".py",
   "mimetype": "text/x-python",
   "name": "python",
   "nbconvert_exporter": "python",
   "pygments_lexer": "ipython3",
   "version": "3.5.2"
  }
 },
 "nbformat": 4,
 "nbformat_minor": 2
}
