{
 "cells": [
  {
   "cell_type": "code",
   "execution_count": 809,
   "metadata": {},
   "outputs": [],
   "source": [
    "import numpy as np\n",
    "import pandas as pd\n",
    "import matplotlib.pyplot as plt\n",
    "import seaborn as sns\n",
    "%matplotlib inline\n",
    "\n",
    "from keras.models import Sequential\n",
    "from keras.layers import Dense, Dropout\n",
    "from keras.utils import to_categorical\n",
    "from keras.wrappers.scikit_learn import KerasClassifier\n",
    "from keras.optimizers import Adam, SGD\n",
    "from keras import regularizers\n",
    "from keras.callbacks import Callback, LearningRateScheduler\n",
    "from keras import backend as K\n",
    "\n",
    "from sklearn.preprocessing import MinMaxScaler\n",
    "from sklearn.metrics import f1_score, confusion_matrix\n",
    "from sklearn.model_selection import KFold, GridSearchCV"
   ]
  },
  {
   "cell_type": "code",
   "execution_count": 763,
   "metadata": {},
   "outputs": [],
   "source": [
    "folder = \"without_na\"\n",
    "\n",
    "train = pd.read_csv(\"{}/train_clean.csv\".format(folder))\n",
    "val = pd.read_csv(\"{}/validation_clean.csv\".format(folder))"
   ]
  },
  {
   "cell_type": "code",
   "execution_count": 764,
   "metadata": {},
   "outputs": [],
   "source": [
    "features_to_drop = ['objid', 'class']\n",
    "\n",
    "X_train = train.drop(features_to_drop, axis=1).values\n",
    "y_train = train['class'].values\n",
    "y_train = to_categorical(y_train, num_classes=3)\n",
    "    \n",
    "X_test = val.drop(features_to_drop, axis=1).values\n",
    "y_test = val['class'].values\n",
    "y_test = to_categorical(y_test, num_classes=3)\n",
    "\n",
    "\n",
    "scaler = MinMaxScaler()\n",
    "X_train = scaler.fit_transform(X_train)\n",
    "X_test = scaler.transform(X_test)    "
   ]
  },
  {
   "cell_type": "code",
   "execution_count": 765,
   "metadata": {},
   "outputs": [],
   "source": [
    "def f1(y_true, y_pred):\n",
    "    def recall(y_true, y_pred):\n",
    "        \"\"\"Recall metric.\n",
    "\n",
    "        Only computes a batch-wise average of recall.\n",
    "\n",
    "        Computes the recall, a metric for multi-label classification of\n",
    "        how many relevant items are selected.\n",
    "        \"\"\"\n",
    "        true_positives = K.sum(K.round(K.clip(y_true * y_pred, 0, 1)))\n",
    "        possible_positives = K.sum(K.round(K.clip(y_true, 0, 1)))\n",
    "        recall = true_positives / (possible_positives + K.epsilon())\n",
    "        return recall\n",
    "\n",
    "    def precision(y_true, y_pred):\n",
    "        \"\"\"Precision metric.\n",
    "\n",
    "        Only computes a batch-wise average of precision.\n",
    "\n",
    "        Computes the precision, a metric for multi-label classification of\n",
    "        how many selected items are relevant.\n",
    "        \"\"\"\n",
    "        true_positives = K.sum(K.round(K.clip(y_true * y_pred, 0, 1)))\n",
    "        predicted_positives = K.sum(K.round(K.clip(y_pred, 0, 1)))\n",
    "        precision = true_positives / (predicted_positives + K.epsilon())\n",
    "        return precision\n",
    "    precision = precision(y_true, y_pred)\n",
    "    recall = recall(y_true, y_pred)\n",
    "    return 2*((precision*recall)/(precision+recall+K.epsilon()))  "
   ]
  },
  {
   "cell_type": "code",
   "execution_count": 766,
   "metadata": {},
   "outputs": [],
   "source": [
    "def get_class_weights(labels):\n",
    "    classes, class_counts = np.unique(labels, return_counts=True)\n",
    "    weights = 1 - class_counts / np.sum(class_counts)\n",
    "    return {c:w for c, w in zip(classes, weights)}"
   ]
  },
  {
   "cell_type": "code",
   "execution_count": 1017,
   "metadata": {},
   "outputs": [],
   "source": [
    "# update learning rate every 5 epochs\n",
    "def get_lr(epoch):\n",
    "    initial_lr = 0.01\n",
    "    l_rate = initial_lr * np.power(0.5, epoch // 5)\n",
    "    return l_rate\n",
    "lrate = LearningRateScheduler(get_lr)"
   ]
  },
  {
   "cell_type": "code",
   "execution_count": 1051,
   "metadata": {},
   "outputs": [],
   "source": [
    "model = Sequential()\n",
    "\n",
    "model.add(Dense(35, input_dim=39, activation='relu', kernel_regularizer=regularizers.l1(0.001)))\n",
    "model.add(Dropout(0.3))\n",
    "\n",
    "model.add(Dense(25, activation='relu', kernel_regularizer=regularizers.l1(0.003)))\n",
    "model.add(Dropout(0.3))\n",
    "\n",
    "model.add(Dense(15, activation='relu', kernel_regularizer=regularizers.l1(0.003)))\n",
    "model.add(Dropout(0.3))\n",
    "\n",
    "\n",
    "model.add(Dense(3, activation='softmax'))"
   ]
  },
  {
   "cell_type": "code",
   "execution_count": 1052,
   "metadata": {},
   "outputs": [
    {
     "name": "stdout",
     "output_type": "stream",
     "text": [
      "Train on 30000 samples, validate on 23333 samples\n",
      "Epoch 1/20\n",
      "30000/30000 [==============================] - 19s 621us/step - loss: 1.0962 - f1: 0.1104 - val_loss: 1.2315 - val_f1: 0.1709\n",
      "Epoch 2/20\n",
      "30000/30000 [==============================] - 1s 40us/step - loss: 0.7122 - f1: 0.3988 - val_loss: 0.9677 - val_f1: 0.5873\n",
      "Epoch 3/20\n",
      "30000/30000 [==============================] - 1s 42us/step - loss: 0.6506 - f1: 0.4979 - val_loss: 0.9507 - val_f1: 0.6174\n",
      "Epoch 4/20\n",
      "30000/30000 [==============================] - 1s 41us/step - loss: 0.6335 - f1: 0.5333 - val_loss: 0.9117 - val_f1: 0.5898\n",
      "Epoch 5/20\n",
      "30000/30000 [==============================] - 1s 40us/step - loss: 0.6263 - f1: 0.5575 - val_loss: 0.9290 - val_f1: 0.6159\n",
      "Epoch 6/20\n",
      "30000/30000 [==============================] - 1s 40us/step - loss: 0.6188 - f1: 0.5623 - val_loss: 0.9111 - val_f1: 0.6461\n",
      "Epoch 7/20\n",
      "30000/30000 [==============================] - 1s 40us/step - loss: 0.6146 - f1: 0.5693 - val_loss: 0.9682 - val_f1: 0.6045\n",
      "Epoch 8/20\n",
      "30000/30000 [==============================] - 1s 40us/step - loss: 0.6104 - f1: 0.5722 - val_loss: 0.9547 - val_f1: 0.6385\n",
      "Epoch 9/20\n",
      "30000/30000 [==============================] - 1s 40us/step - loss: 0.6090 - f1: 0.5720 - val_loss: 0.9332 - val_f1: 0.6342\n",
      "Epoch 10/20\n",
      "30000/30000 [==============================] - 1s 40us/step - loss: 0.6084 - f1: 0.5767 - val_loss: 0.9068 - val_f1: 0.6628\n",
      "Epoch 11/20\n",
      "30000/30000 [==============================] - 1s 41us/step - loss: 0.6018 - f1: 0.5837 - val_loss: 0.9153 - val_f1: 0.6559\n",
      "Epoch 12/20\n",
      "30000/30000 [==============================] - 1s 40us/step - loss: 0.5979 - f1: 0.5879 - val_loss: 0.9100 - val_f1: 0.6646\n",
      "Epoch 13/20\n",
      "30000/30000 [==============================] - 1s 40us/step - loss: 0.5994 - f1: 0.5817 - val_loss: 0.8856 - val_f1: 0.6696\n",
      "Epoch 14/20\n",
      "30000/30000 [==============================] - 1s 46us/step - loss: 0.5971 - f1: 0.5850 - val_loss: 0.8888 - val_f1: 0.6716\n",
      "Epoch 15/20\n",
      "30000/30000 [==============================] - 1s 41us/step - loss: 0.5938 - f1: 0.5866 - val_loss: 0.8969 - val_f1: 0.6671\n",
      "Epoch 16/20\n",
      "30000/30000 [==============================] - 1s 41us/step - loss: 0.5908 - f1: 0.5929 - val_loss: 0.8917 - val_f1: 0.6706\n",
      "Epoch 17/20\n",
      "30000/30000 [==============================] - 1s 46us/step - loss: 0.5920 - f1: 0.5889 - val_loss: 0.8881 - val_f1: 0.6687\n",
      "Epoch 18/20\n",
      "30000/30000 [==============================] - 1s 40us/step - loss: 0.5877 - f1: 0.5939 - val_loss: 0.8743 - val_f1: 0.6782\n",
      "Epoch 19/20\n",
      "30000/30000 [==============================] - 1s 42us/step - loss: 0.5894 - f1: 0.5912 - val_loss: 0.9013 - val_f1: 0.6616\n",
      "Epoch 20/20\n",
      "30000/30000 [==============================] - 1s 40us/step - loss: 0.5874 - f1: 0.5929 - val_loss: 0.9040 - val_f1: 0.6591\n"
     ]
    }
   ],
   "source": [
    "adam = Adam(lr=0.01)\n",
    "model.compile(loss='categorical_crossentropy', optimizer=adam, metrics=[f1])\n",
    "\n",
    "history = model.fit(X_train, y_train,\n",
    "                    epochs=20,\n",
    "                    batch_size=1024,\n",
    "                    validation_data=[X_test, y_test],\n",
    "                    class_weight=get_class_weights(val['class']),\n",
    "                    callbacks=[lrate])"
   ]
  },
  {
   "cell_type": "code",
   "execution_count": 1053,
   "metadata": {},
   "outputs": [
    {
     "data": {
      "image/png": "[encoded data removed]",
      "text/plain": [
       "<Figure size 432x288 with 1 Axes>"
      ]
     },
     "metadata": {},
     "output_type": "display_data"
    }
   ],
   "source": [
    "plt.plot(history.history['f1'])\n",
    "plt.plot(history.history['val_f1'])\n",
    "plt.legend(['train', 'test'], loc='lower right')\n",
    "plt.title('f1 score')\n",
    "plt.ylabel('f1')\n",
    "plt.xlabel('epoch')\n",
    "plt.show()"
   ]
  },
  {
   "cell_type": "code",
   "execution_count": 1054,
   "metadata": {},
   "outputs": [
    {
     "data": {
      "image/png": "[encoded data removed]",
      "text/plain": [
       "<Figure size 432x288 with 1 Axes>"
      ]
     },
     "metadata": {},
     "output_type": "display_data"
    }
   ],
   "source": [
    "plt.plot(history.history['loss'])\n",
    "plt.plot(history.history['val_loss'])\n",
    "plt.legend(['train', 'test'], loc='upper right')\n",
    "plt.title('model loss')\n",
    "plt.ylabel('loss')\n",
    "plt.xlabel('epoch')\n",
    "plt.show()"
   ]
  },
  {
   "cell_type": "code",
   "execution_count": 1050,
   "metadata": {},
   "outputs": [
    {
     "data": {
      "text/plain": [
       "0.7620110529568952"
      ]
     },
     "execution_count": 1050,
     "metadata": {},
     "output_type": "execute_result"
    }
   ],
   "source": [
    "predictions_p = model.predict(X_test)\n",
    "predictions = np.argmax(predictions_p, axis=1)\n",
    "true_labels = np.argmax(y_test, axis=1)\n",
    "f1_score(true_labels, predictions, average='macro')"
   ]
  },
  {
   "cell_type": "code",
   "execution_count": null,
   "metadata": {},
   "outputs": [],
   "source": []
  },
  {
   "cell_type": "code",
   "execution_count": 978,
   "metadata": {},
   "outputs": [
    {
     "name": "stdout",
     "output_type": "stream",
     "text": [
      "Train on 30000 samples, validate on 23333 samples\n",
      "Epoch 1/3\n",
      "30000/30000 [==============================] - 4s 132us/step - loss: 0.5206 - f1: 0.7054 - val_loss: 0.7897 - val_f1: 0.6925\n",
      "Epoch 2/3\n",
      "30000/30000 [==============================] - 3s 110us/step - loss: 0.5167 - f1: 0.7120 - val_loss: 0.7243 - val_f1: 0.7178\n",
      "Epoch 3/3\n",
      "30000/30000 [==============================] - 3s 109us/step - loss: 0.5080 - f1: 0.7185 - val_loss: 0.7340 - val_f1: 0.7239\n"
     ]
    }
   ],
   "source": [
    "history = model.fit(X_train, y_train,\n",
    "                    epochs=3,\n",
    "                    batch_size=128,\n",
    "                    validation_data=[X_test, y_test],\n",
    "                    class_weight=get_class_weights(val['class']))"
   ]
  },
  {
   "cell_type": "code",
   "execution_count": 979,
   "metadata": {},
   "outputs": [
    {
     "data": {
      "image/png": "[encoded data removed]",
      "text/plain": [
       "<Figure size 432x288 with 1 Axes>"
      ]
     },
     "metadata": {},
     "output_type": "display_data"
    }
   ],
   "source": [
    "plt.plot(history.history['f1'])\n",
    "plt.plot(history.history['val_f1'])\n",
    "plt.legend(['train', 'test'], loc='lower right')\n",
    "plt.title('f1 score')\n",
    "plt.ylabel('f1')\n",
    "plt.xlabel('epoch')\n",
    "plt.show()"
   ]
  },
  {
   "cell_type": "code",
   "execution_count": 980,
   "metadata": {},
   "outputs": [
    {
     "data": {
      "text/plain": [
       "0.7100634980135125"
      ]
     },
     "execution_count": 980,
     "metadata": {},
     "output_type": "execute_result"
    }
   ],
   "source": [
    "predictions_p = model.predict(X_test)\n",
    "predictions = np.argmax(predictions_p, axis=1)\n",
    "true_labels = np.argmax(y_test, axis=1)\n",
    "f1_score(true_labels, predictions, average='macro')"
   ]
  },
  {
   "cell_type": "code",
   "execution_count": null,
   "metadata": {},
   "outputs": [],
   "source": []
  }
 ],
 "metadata": {
  "kernelspec": {
   "display_name": "Python 3",
   "language": "python",
   "name": "python3"
  },
  "language_info": {
   "codemirror_mode": {
    "name": "ipython",
    "version": 3
   },
   "file_extension": ".py",
   "mimetype": "text/x-python",
   "name": "python",
   "nbconvert_exporter": "python",
   "pygments_lexer": "ipython3",
   "version": "3.6.5"
  }
 },
 "nbformat": 4,
 "nbformat_minor": 2
}
