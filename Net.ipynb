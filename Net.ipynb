{
 "cells": [
  {
   "cell_type": "code",
   "execution_count": 89,
   "metadata": {},
   "outputs": [],
   "source": [
    "import numpy as np\n",
    "import pandas as pd\n",
    "import matplotlib.pyplot as plt\n",
    "import seaborn as sns\n",
    "%matplotlib inline\n",
    "\n",
    "from keras.models import Sequential\n",
    "from keras.layers import Dense, Dropout\n",
    "from keras.utils import to_categorical\n",
    "from keras.wrappers.scikit_learn import KerasClassifier\n",
    "from keras.optimizers import Adam, SGD\n",
    "from keras import regularizers\n",
    "from keras.callbacks import Callback, LearningRateScheduler\n",
    "from keras import backend as K\n",
    "\n",
    "from sklearn.preprocessing import MinMaxScaler, StandardScaler\n",
    "from sklearn.metrics import f1_score, confusion_matrix\n",
    "from sklearn.model_selection import KFold, GridSearchCV"
   ]
  },
  {
   "cell_type": "code",
   "execution_count": 91,
   "metadata": {},
   "outputs": [],
   "source": [
    "folder = \"without_na\"\n",
    "\n",
    "train = pd.read_csv(\"{}/train_clean.csv\".format(folder))\n",
    "val = pd.read_csv(\"{}/validation_clean.csv\".format(folder))"
   ]
  },
  {
   "cell_type": "code",
   "execution_count": 92,
   "metadata": {},
   "outputs": [
    {
     "data": {
      "text/plain": [
       "Index(['objid', 'u_0', 'g_0', 'r_0', 'i_0', 'z_0', 'clean', 'rowc', 'colc',\n",
       "       'rowv', 'colv', 'u_3', 'g_3', 'r_3', 'i_3', 'z_3', 'u_4', 'g_4', 'r_4',\n",
       "       'i_4', 'z_4', 'u_5', 'g_5', 'r_5', 'i_5', 'z_5', 'u_6', 'g_6', 'r_6',\n",
       "       'i_6', 'z_6', 'class', 'u_3_na', 'g_3_na', 'r_3_na', 'i_3_na', 'z_3_na',\n",
       "       '0th_above', '3rd_above', '4th_above', '5th_above'],\n",
       "      dtype='object')"
      ]
     },
     "execution_count": 92,
     "metadata": {},
     "output_type": "execute_result"
    }
   ],
   "source": [
    "train.columns"
   ]
  },
  {
   "cell_type": "code",
   "execution_count": 93,
   "metadata": {},
   "outputs": [],
   "source": [
    "# '-6' are categorical variables and need to be converted\n",
    "\n",
    "features = [\"{}_6\".format(b) for b in ['u', 'g', 'r', 'i', 'z']]\n",
    "\n",
    "dummy_train = pd.DataFrame()\n",
    "dummy_val = pd.DataFrame()\n",
    "for f in features:   \n",
    "    dummy_train = pd.concat([dummy_train, pd.get_dummies(train[f], prefix=f)], axis=1)    \n",
    "    dummy_val = pd.concat([dummy_val, pd.get_dummies(val[f], prefix=f)], axis=1)\n",
    "\n",
    "# in case test set has values train set doesn't have\n",
    "values = [\"{}_{}\".format(f, i) for f in features for i in range(9)]\n",
    "\n",
    "dummy_train = dummy_train.reindex(columns=values).fillna(0).astype('int64')\n",
    "dummy_val = dummy_val.reindex(columns=values).fillna(0).astype('int64')\n",
    "\n",
    "train = pd.concat([train, dummy_train], axis=1)\n",
    "val = pd.concat([val, dummy_val], axis=1)\n",
    "\n",
    "# drop initial categorical variables\n",
    "train.drop(features, axis=1, inplace=True)\n",
    "val.drop(features, axis=1, inplace=True)"
   ]
  },
  {
   "cell_type": "code",
   "execution_count": 94,
   "metadata": {},
   "outputs": [
    {
     "data": {
      "text/plain": [
       "81"
      ]
     },
     "execution_count": 94,
     "metadata": {},
     "output_type": "execute_result"
    }
   ],
   "source": [
    "len(train.columns)"
   ]
  },
  {
   "cell_type": "code",
   "execution_count": 95,
   "metadata": {},
   "outputs": [],
   "source": [
    "features_to_drop = ['objid', 'class']\n",
    "\n",
    "X_train = train.drop(features_to_drop, axis=1).values\n",
    "y_train = train['class'].values\n",
    "y_train = to_categorical(y_train, num_classes=3)\n",
    "    \n",
    "X_test = val.drop(features_to_drop, axis=1).values\n",
    "y_test = val['class'].values\n",
    "y_test = to_categorical(y_test, num_classes=3)\n",
    "\n",
    "\n",
    "scaler = StandardScaler()\n",
    "X_train = scaler.fit_transform(X_train)\n",
    "X_test = scaler.transform(X_test)    "
   ]
  },
  {
   "cell_type": "code",
   "execution_count": 154,
   "metadata": {},
   "outputs": [],
   "source": [
    "def f1(y_true, y_pred):\n",
    "    def recall(y_true, y_pred):\n",
    "        \"\"\"Recall metric.\n",
    "\n",
    "        Only computes a batch-wise average of recall.\n",
    "\n",
    "        Computes the recall, a metric for multi-label classification of\n",
    "        how many relevant items are selected.\n",
    "        \"\"\"\n",
    "        true_positives = K.sum(K.round(K.clip(y_true * y_pred, 0, 1)))\n",
    "        possible_positives = K.sum(K.round(K.clip(y_true, 0, 1)))\n",
    "        recall = true_positives / (possible_positives + K.epsilon())\n",
    "        return recall\n",
    "\n",
    "    def precision(y_true, y_pred):\n",
    "        \"\"\"Precision metric.\n",
    "\n",
    "        Only computes a batch-wise average of precision.\n",
    "\n",
    "        Computes the precision, a metric for multi-label classification of\n",
    "        how many selected items are relevant.\n",
    "        \"\"\"\n",
    "        true_positives = K.sum(K.round(K.clip(y_true * y_pred, 0, 1)))\n",
    "        predicted_positives = K.sum(K.round(K.clip(y_pred, 0, 1)))\n",
    "        precision = true_positives / (predicted_positives + K.epsilon())\n",
    "        return precision\n",
    "    precision = precision(y_true, y_pred)\n",
    "    recall = recall(y_true, y_pred)\n",
    "    return 2*((precision*recall)/(precision+recall+K.epsilon())) \n",
    "    "
   ]
  },
  {
   "cell_type": "code",
   "execution_count": 155,
   "metadata": {},
   "outputs": [],
   "source": [
    "def get_class_weights(labels):\n",
    "    classes, class_counts = np.unique(labels, return_counts=True)\n",
    "    weights = 1 - class_counts / np.sum(class_counts)\n",
    "    return {c:w for c, w in zip(classes, weights)}"
   ]
  },
  {
   "cell_type": "code",
   "execution_count": 161,
   "metadata": {},
   "outputs": [],
   "source": [
    "# update learning rate every 5 epochs\n",
    "def get_lr(epoch):\n",
    "    initial_lr = 0.003\n",
    "    l_rate = initial_lr * np.power(0.5, epoch // 30)\n",
    "    return l_rate\n",
    "lrate = LearningRateScheduler(get_lr)"
   ]
  },
  {
   "cell_type": "code",
   "execution_count": 162,
   "metadata": {},
   "outputs": [
    {
     "name": "stdout",
     "output_type": "stream",
     "text": [
      "Train on 30000 samples, validate on 23333 samples\n",
      "Epoch 1/75\n",
      "30000/30000 [==============================] - 3s 99us/step - loss: 0.6787 - f1: 0.2854 - val_loss: 0.8987 - val_f1: 0.5037\n",
      "Epoch 2/75\n",
      "30000/30000 [==============================] - 0s 12us/step - loss: 0.5059 - f1: 0.6396 - val_loss: 0.6516 - val_f1: 0.7270\n",
      "Epoch 3/75\n",
      "30000/30000 [==============================] - 0s 12us/step - loss: 0.4540 - f1: 0.7064 - val_loss: 0.6166 - val_f1: 0.7510\n",
      "Epoch 4/75\n",
      "30000/30000 [==============================] - 0s 12us/step - loss: 0.4221 - f1: 0.7423 - val_loss: 0.5824 - val_f1: 0.7693\n",
      "Epoch 5/75\n",
      "30000/30000 [==============================] - 0s 11us/step - loss: 0.4024 - f1: 0.7615 - val_loss: 0.5579 - val_f1: 0.7806\n",
      "Epoch 6/75\n",
      "30000/30000 [==============================] - 0s 12us/step - loss: 0.3889 - f1: 0.7731 - val_loss: 0.5493 - val_f1: 0.7902\n",
      "Epoch 7/75\n",
      "30000/30000 [==============================] - 0s 12us/step - loss: 0.3795 - f1: 0.7816 - val_loss: 0.5300 - val_f1: 0.8019\n",
      "Epoch 8/75\n",
      "30000/30000 [==============================] - 0s 12us/step - loss: 0.3698 - f1: 0.7893 - val_loss: 0.5332 - val_f1: 0.8007\n",
      "Epoch 9/75\n",
      "30000/30000 [==============================] - 0s 12us/step - loss: 0.3645 - f1: 0.7919 - val_loss: 0.5253 - val_f1: 0.8052\n",
      "Epoch 10/75\n",
      "30000/30000 [==============================] - 0s 12us/step - loss: 0.3585 - f1: 0.7990 - val_loss: 0.4872 - val_f1: 0.8207\n",
      "Epoch 11/75\n",
      "30000/30000 [==============================] - 0s 14us/step - loss: 0.3549 - f1: 0.8030 - val_loss: 0.4904 - val_f1: 0.8221\n",
      "Epoch 12/75\n",
      "30000/30000 [==============================] - 0s 12us/step - loss: 0.3510 - f1: 0.8071 - val_loss: 0.4754 - val_f1: 0.8291\n",
      "Epoch 13/75\n",
      "30000/30000 [==============================] - 0s 11us/step - loss: 0.3458 - f1: 0.8097 - val_loss: 0.4805 - val_f1: 0.8278\n",
      "Epoch 14/75\n",
      "30000/30000 [==============================] - 0s 11us/step - loss: 0.3442 - f1: 0.8118 - val_loss: 0.4647 - val_f1: 0.8337\n",
      "Epoch 15/75\n",
      "30000/30000 [==============================] - 0s 12us/step - loss: 0.3409 - f1: 0.8145 - val_loss: 0.4522 - val_f1: 0.8398\n",
      "Epoch 16/75\n",
      "30000/30000 [==============================] - 0s 12us/step - loss: 0.3374 - f1: 0.8164 - val_loss: 0.4542 - val_f1: 0.8407\n",
      "Epoch 17/75\n",
      "30000/30000 [==============================] - 0s 15us/step - loss: 0.3339 - f1: 0.8205 - val_loss: 0.4448 - val_f1: 0.8448\n",
      "Epoch 18/75\n",
      "30000/30000 [==============================] - 0s 17us/step - loss: 0.3329 - f1: 0.8190 - val_loss: 0.4469 - val_f1: 0.8453\n",
      "Epoch 19/75\n",
      "30000/30000 [==============================] - 0s 14us/step - loss: 0.3300 - f1: 0.8216 - val_loss: 0.4390 - val_f1: 0.8460\n",
      "Epoch 20/75\n",
      "30000/30000 [==============================] - 0s 12us/step - loss: 0.3293 - f1: 0.8235 - val_loss: 0.4277 - val_f1: 0.8497\n",
      "Epoch 21/75\n",
      "30000/30000 [==============================] - 0s 12us/step - loss: 0.3234 - f1: 0.8272 - val_loss: 0.4293 - val_f1: 0.8508\n",
      "Epoch 22/75\n",
      "30000/30000 [==============================] - 0s 12us/step - loss: 0.3231 - f1: 0.8281 - val_loss: 0.4309 - val_f1: 0.8509\n",
      "Epoch 23/75\n",
      "30000/30000 [==============================] - 0s 12us/step - loss: 0.3195 - f1: 0.8279 - val_loss: 0.4253 - val_f1: 0.8517\n",
      "Epoch 24/75\n",
      "30000/30000 [==============================] - 0s 12us/step - loss: 0.3180 - f1: 0.8313 - val_loss: 0.4228 - val_f1: 0.8538\n",
      "Epoch 25/75\n",
      "30000/30000 [==============================] - 0s 12us/step - loss: 0.3175 - f1: 0.8325 - val_loss: 0.4150 - val_f1: 0.8581\n",
      "Epoch 26/75\n",
      "30000/30000 [==============================] - 0s 12us/step - loss: 0.3133 - f1: 0.8333 - val_loss: 0.4048 - val_f1: 0.8614\n",
      "Epoch 27/75\n",
      "30000/30000 [==============================] - 0s 12us/step - loss: 0.3115 - f1: 0.8349 - val_loss: 0.4073 - val_f1: 0.8604\n",
      "Epoch 28/75\n",
      "30000/30000 [==============================] - 0s 12us/step - loss: 0.3103 - f1: 0.8345 - val_loss: 0.4050 - val_f1: 0.8610\n",
      "Epoch 29/75\n",
      "30000/30000 [==============================] - 0s 13us/step - loss: 0.3063 - f1: 0.8370 - val_loss: 0.4042 - val_f1: 0.8632\n",
      "Epoch 30/75\n",
      "30000/30000 [==============================] - 0s 15us/step - loss: 0.3039 - f1: 0.8398 - val_loss: 0.3919 - val_f1: 0.8670\n",
      "Epoch 31/75\n",
      "30000/30000 [==============================] - 0s 12us/step - loss: 0.3028 - f1: 0.8388 - val_loss: 0.3920 - val_f1: 0.8672\n",
      "Epoch 32/75\n",
      "30000/30000 [==============================] - 0s 12us/step - loss: 0.3004 - f1: 0.8400 - val_loss: 0.3884 - val_f1: 0.8687\n",
      "Epoch 33/75\n",
      "30000/30000 [==============================] - 0s 15us/step - loss: 0.2990 - f1: 0.8424 - val_loss: 0.3839 - val_f1: 0.8714\n",
      "Epoch 34/75\n",
      "30000/30000 [==============================] - 0s 15us/step - loss: 0.2994 - f1: 0.8434 - val_loss: 0.3790 - val_f1: 0.8717\n",
      "Epoch 35/75\n",
      "30000/30000 [==============================] - 0s 12us/step - loss: 0.2963 - f1: 0.8447 - val_loss: 0.3845 - val_f1: 0.8706\n",
      "Epoch 36/75\n",
      "30000/30000 [==============================] - 0s 14us/step - loss: 0.2945 - f1: 0.8452 - val_loss: 0.3837 - val_f1: 0.8719\n",
      "Epoch 37/75\n",
      "30000/30000 [==============================] - 0s 13us/step - loss: 0.2956 - f1: 0.8443 - val_loss: 0.3848 - val_f1: 0.8704\n",
      "Epoch 38/75\n",
      "30000/30000 [==============================] - 0s 12us/step - loss: 0.2923 - f1: 0.8462 - val_loss: 0.3817 - val_f1: 0.8718\n",
      "Epoch 39/75\n",
      "30000/30000 [==============================] - 0s 15us/step - loss: 0.2908 - f1: 0.8465 - val_loss: 0.3752 - val_f1: 0.8748\n",
      "Epoch 40/75\n",
      "30000/30000 [==============================] - 0s 13us/step - loss: 0.2918 - f1: 0.8468 - val_loss: 0.3768 - val_f1: 0.8746\n",
      "Epoch 41/75\n",
      "30000/30000 [==============================] - 0s 12us/step - loss: 0.2916 - f1: 0.8480 - val_loss: 0.3753 - val_f1: 0.8758\n",
      "Epoch 42/75\n",
      "30000/30000 [==============================] - 0s 12us/step - loss: 0.2902 - f1: 0.8469 - val_loss: 0.3728 - val_f1: 0.8754\n",
      "Epoch 43/75\n",
      "30000/30000 [==============================] - 0s 12us/step - loss: 0.2898 - f1: 0.8481 - val_loss: 0.3726 - val_f1: 0.8766\n",
      "Epoch 44/75\n",
      "30000/30000 [==============================] - 0s 13us/step - loss: 0.2882 - f1: 0.8494 - val_loss: 0.3722 - val_f1: 0.8774\n",
      "Epoch 45/75\n",
      "30000/30000 [==============================] - 0s 12us/step - loss: 0.2857 - f1: 0.8503 - val_loss: 0.3707 - val_f1: 0.8774\n",
      "Epoch 46/75\n",
      "30000/30000 [==============================] - 0s 12us/step - loss: 0.2875 - f1: 0.8504 - val_loss: 0.3704 - val_f1: 0.8795\n",
      "Epoch 47/75\n",
      "30000/30000 [==============================] - 0s 12us/step - loss: 0.2845 - f1: 0.8512 - val_loss: 0.3675 - val_f1: 0.8790\n",
      "Epoch 48/75\n",
      "30000/30000 [==============================] - 0s 12us/step - loss: 0.2839 - f1: 0.8529 - val_loss: 0.3639 - val_f1: 0.8806\n",
      "Epoch 49/75\n",
      "30000/30000 [==============================] - 0s 12us/step - loss: 0.2838 - f1: 0.8520 - val_loss: 0.3664 - val_f1: 0.8802\n",
      "Epoch 50/75\n",
      "30000/30000 [==============================] - 0s 14us/step - loss: 0.2833 - f1: 0.8522 - val_loss: 0.3699 - val_f1: 0.8787\n",
      "Epoch 51/75\n",
      "30000/30000 [==============================] - 0s 13us/step - loss: 0.2846 - f1: 0.8514 - val_loss: 0.3665 - val_f1: 0.8814\n",
      "Epoch 52/75\n",
      "30000/30000 [==============================] - 0s 14us/step - loss: 0.2847 - f1: 0.8529 - val_loss: 0.3650 - val_f1: 0.8811\n",
      "Epoch 53/75\n",
      "30000/30000 [==============================] - 0s 15us/step - loss: 0.2841 - f1: 0.8524 - val_loss: 0.3628 - val_f1: 0.8819\n",
      "Epoch 54/75\n",
      "30000/30000 [==============================] - 0s 12us/step - loss: 0.2850 - f1: 0.8520 - val_loss: 0.3610 - val_f1: 0.8831\n",
      "Epoch 55/75\n",
      "30000/30000 [==============================] - 0s 12us/step - loss: 0.2811 - f1: 0.8541 - val_loss: 0.3672 - val_f1: 0.8804\n",
      "Epoch 56/75\n",
      "30000/30000 [==============================] - 0s 14us/step - loss: 0.2801 - f1: 0.8545 - val_loss: 0.3675 - val_f1: 0.8807\n",
      "Epoch 57/75\n",
      "30000/30000 [==============================] - 0s 15us/step - loss: 0.2792 - f1: 0.8557 - val_loss: 0.3640 - val_f1: 0.8831\n",
      "Epoch 58/75\n",
      "30000/30000 [==============================] - 1s 17us/step - loss: 0.2805 - f1: 0.8552 - val_loss: 0.3641 - val_f1: 0.8819\n",
      "Epoch 59/75\n",
      "30000/30000 [==============================] - 0s 14us/step - loss: 0.2799 - f1: 0.8555 - val_loss: 0.3558 - val_f1: 0.8843\n",
      "Epoch 60/75\n",
      "30000/30000 [==============================] - 0s 15us/step - loss: 0.2764 - f1: 0.8578 - val_loss: 0.3613 - val_f1: 0.8835\n"
     ]
    },
    {
     "name": "stdout",
     "output_type": "stream",
     "text": [
      "Epoch 61/75\n",
      "30000/30000 [==============================] - 0s 12us/step - loss: 0.2759 - f1: 0.8575 - val_loss: 0.3568 - val_f1: 0.8849\n",
      "Epoch 62/75\n",
      "30000/30000 [==============================] - 0s 11us/step - loss: 0.2753 - f1: 0.8573 - val_loss: 0.3584 - val_f1: 0.8851\n",
      "Epoch 63/75\n",
      "30000/30000 [==============================] - 0s 12us/step - loss: 0.2754 - f1: 0.8582 - val_loss: 0.3575 - val_f1: 0.8852\n",
      "Epoch 64/75\n",
      "30000/30000 [==============================] - 0s 11us/step - loss: 0.2789 - f1: 0.8579 - val_loss: 0.3566 - val_f1: 0.8845\n",
      "Epoch 65/75\n",
      "30000/30000 [==============================] - 0s 11us/step - loss: 0.2740 - f1: 0.8591 - val_loss: 0.3575 - val_f1: 0.8847\n",
      "Epoch 66/75\n",
      "30000/30000 [==============================] - 0s 11us/step - loss: 0.2755 - f1: 0.8580 - val_loss: 0.3576 - val_f1: 0.8849\n",
      "Epoch 67/75\n",
      "30000/30000 [==============================] - 0s 12us/step - loss: 0.2743 - f1: 0.8594 - val_loss: 0.3572 - val_f1: 0.8855\n",
      "Epoch 68/75\n",
      "30000/30000 [==============================] - 0s 12us/step - loss: 0.2742 - f1: 0.8584 - val_loss: 0.3600 - val_f1: 0.8843\n",
      "Epoch 69/75\n",
      "30000/30000 [==============================] - 0s 13us/step - loss: 0.2743 - f1: 0.8592 - val_loss: 0.3609 - val_f1: 0.8839\n",
      "Epoch 70/75\n",
      "30000/30000 [==============================] - 0s 12us/step - loss: 0.2738 - f1: 0.8580 - val_loss: 0.3566 - val_f1: 0.8859\n",
      "Epoch 71/75\n",
      "30000/30000 [==============================] - 0s 14us/step - loss: 0.2710 - f1: 0.8604 - val_loss: 0.3555 - val_f1: 0.8858\n",
      "Epoch 72/75\n",
      "30000/30000 [==============================] - 0s 12us/step - loss: 0.2720 - f1: 0.8599 - val_loss: 0.3622 - val_f1: 0.8842\n",
      "Epoch 73/75\n",
      "30000/30000 [==============================] - 0s 12us/step - loss: 0.2713 - f1: 0.8615 - val_loss: 0.3589 - val_f1: 0.8850\n",
      "Epoch 74/75\n",
      "30000/30000 [==============================] - 0s 12us/step - loss: 0.2745 - f1: 0.8578 - val_loss: 0.3575 - val_f1: 0.8861\n",
      "Epoch 75/75\n",
      "30000/30000 [==============================] - 0s 13us/step - loss: 0.2712 - f1: 0.8619 - val_loss: 0.3564 - val_f1: 0.8860\n"
     ]
    }
   ],
   "source": [
    "model = Sequential()\n",
    "\n",
    "model.add(Dense(35, \n",
    "                input_dim=79, \n",
    "                activation='relu'))\n",
    "model.add(Dropout(0.3))\n",
    "\n",
    "model.add(Dense(20, \n",
    "                activation='relu'))\n",
    "model.add(Dropout(0.2))\n",
    "\n",
    "model.add(Dense(10, \n",
    "                activation='relu'))\n",
    "model.add(Dropout(0.1))\n",
    "\n",
    "model.add(Dense(3, activation='softmax'))\n",
    "\n",
    "adam = Adam(lr=0.002)\n",
    "model.compile(loss='categorical_crossentropy', optimizer=adam, metrics=[f1])\n",
    "\n",
    "history = model.fit(X_train, y_train,\n",
    "                    epochs=75,\n",
    "                    batch_size=1024,\n",
    "                    validation_data=[X_test, y_test],\n",
    "                    class_weight=get_class_weights(val['class']),\n",
    "                    callbacks=[lrate]\n",
    "                   )"
   ]
  },
  {
   "cell_type": "code",
   "execution_count": 163,
   "metadata": {},
   "outputs": [
    {
     "data": {
      "image/png": "[encoded data removed]",
      "text/plain": [
       "<Figure size 432x288 with 1 Axes>"
      ]
     },
     "metadata": {},
     "output_type": "display_data"
    }
   ],
   "source": [
    "#loss: 0.2705 - f1: 0.8599 - val_loss: 0.3561 - val_f1: 0.8827\n",
    "plt.plot(history.history['f1'])\n",
    "plt.plot(history.history['val_f1'])\n",
    "plt.legend(['train', 'test'], loc='lower right')\n",
    "plt.title('f1 score')\n",
    "plt.ylabel('f1')\n",
    "plt.xlabel('epoch')\n",
    "plt.show()"
   ]
  },
  {
   "cell_type": "code",
   "execution_count": 164,
   "metadata": {},
   "outputs": [
    {
     "data": {
      "image/png": "[encoded data removed]",
      "text/plain": [
       "<Figure size 432x288 with 1 Axes>"
      ]
     },
     "metadata": {},
     "output_type": "display_data"
    }
   ],
   "source": [
    "plt.plot(history.history['loss'])\n",
    "plt.plot(history.history['val_loss'])\n",
    "plt.legend(['train', 'test'], loc='upper right')\n",
    "plt.title('model loss')\n",
    "plt.ylabel('loss')\n",
    "plt.xlabel('epoch')\n",
    "plt.show()"
   ]
  },
  {
   "cell_type": "code",
   "execution_count": 167,
   "metadata": {},
   "outputs": [
    {
     "data": {
      "text/plain": [
       "0.8641384859999702"
      ]
     },
     "execution_count": 167,
     "metadata": {},
     "output_type": "execute_result"
    }
   ],
   "source": [
    "predictions_p = model.predict(X_test)\n",
    "predictions = np.argmax(predictions_p, axis=1)\n",
    "true_labels = np.argmax(y_test, axis=1)\n",
    "f1_score(true_labels, predictions, average='macro')"
   ]
  },
  {
   "cell_type": "code",
   "execution_count": 168,
   "metadata": {},
   "outputs": [],
   "source": [
    "model.save(\"model_0_883.h5\")"
   ]
  },
  {
   "cell_type": "code",
   "execution_count": null,
   "metadata": {},
   "outputs": [],
   "source": []
  },
  {
   "cell_type": "code",
   "execution_count": 108,
   "metadata": {},
   "outputs": [
    {
     "name": "stdout",
     "output_type": "stream",
     "text": [
      "Train on 30000 samples, validate on 23333 samples\n",
      "Epoch 1/3\n",
      "30000/30000 [==============================] - 1s 25us/step - loss: 0.3173 - f1: 0.8322 - val_loss: 0.4027 - val_f1: 0.8650\n",
      "Epoch 2/3\n",
      "30000/30000 [==============================] - 1s 25us/step - loss: 0.3083 - f1: 0.8355 - val_loss: 0.3859 - val_f1: 0.8704\n",
      "Epoch 3/3\n",
      "30000/30000 [==============================] - 1s 25us/step - loss: 0.3052 - f1: 0.8378 - val_loss: 0.3768 - val_f1: 0.8738\n"
     ]
    }
   ],
   "source": [
    "history = model.fit(X_train, y_train,\n",
    "                    epochs=3,\n",
    "                    batch_size=128,\n",
    "                    validation_data=[X_test, y_test],\n",
    "                    class_weight=get_class_weights(val['class']))"
   ]
  },
  {
   "cell_type": "code",
   "execution_count": 109,
   "metadata": {},
   "outputs": [
    {
     "data": {
      "image/png": "[encoded data removed]",
      "text/plain": [
       "<Figure size 432x288 with 1 Axes>"
      ]
     },
     "metadata": {},
     "output_type": "display_data"
    }
   ],
   "source": [
    "plt.plot(history.history['f1'])\n",
    "plt.plot(history.history['val_f1'])\n",
    "plt.legend(['train', 'test'], loc='lower right')\n",
    "plt.title('f1 score')\n",
    "plt.ylabel('f1')\n",
    "plt.xlabel('epoch')\n",
    "plt.show()"
   ]
  },
  {
   "cell_type": "code",
   "execution_count": 110,
   "metadata": {},
   "outputs": [
    {
     "data": {
      "text/plain": [
       "0.8537823752891854"
      ]
     },
     "execution_count": 110,
     "metadata": {},
     "output_type": "execute_result"
    }
   ],
   "source": [
    "predictions_p = model.predict(X_test)\n",
    "predictions = np.argmax(predictions_p, axis=1)\n",
    "true_labels = np.argmax(y_test, axis=1)\n",
    "f1_score(true_labels, predictions, average='macro')"
   ]
  },
  {
   "cell_type": "code",
   "execution_count": null,
   "metadata": {},
   "outputs": [],
   "source": []
  }
 ],
 "metadata": {
  "kernelspec": {
   "display_name": "Python 3",
   "language": "python",
   "name": "python3"
  },
  "language_info": {
   "codemirror_mode": {
    "name": "ipython",
    "version": 3
   },
   "file_extension": ".py",
   "mimetype": "text/x-python",
   "name": "python",
   "nbconvert_exporter": "python",
   "pygments_lexer": "ipython3",
   "version": "3.6.5"
  }
 },
 "nbformat": 4,
 "nbformat_minor": 2
}
